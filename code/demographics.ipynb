{
 "cells": [
  {
   "cell_type": "markdown",
   "id": "bca32b54",
   "metadata": {},
   "source": [
    "# Participant Demographics"
   ]
  },
  {
   "cell_type": "code",
   "execution_count": 5,
   "id": "73d972a6",
   "metadata": {},
   "outputs": [],
   "source": [
    "import os\n",
    "import pandas as pd\n",
    "\n",
    "import seaborn as sns\n",
    "import matplotlib.pyplot as plt"
   ]
  },
  {
   "cell_type": "code",
   "execution_count": 2,
   "id": "1357eabd",
   "metadata": {},
   "outputs": [],
   "source": [
    "bids_dir = '/Users/haroonpopal/OneDrive - Temple University/olson_lab/projects/social_doors/'"
   ]
  },
  {
   "cell_type": "markdown",
   "id": "eb1d6b04",
   "metadata": {},
   "source": [
    "# Overall Sample"
   ]
  },
  {
   "cell_type": "code",
   "execution_count": 45,
   "id": "21b56d45",
   "metadata": {},
   "outputs": [
    {
     "data": {
      "text/html": [
       "<div>\n",
       "<style scoped>\n",
       "    .dataframe tbody tr th:only-of-type {\n",
       "        vertical-align: middle;\n",
       "    }\n",
       "\n",
       "    .dataframe tbody tr th {\n",
       "        vertical-align: top;\n",
       "    }\n",
       "\n",
       "    .dataframe thead th {\n",
       "        text-align: right;\n",
       "    }\n",
       "</style>\n",
       "<table border=\"1\" class=\"dataframe\">\n",
       "  <thead>\n",
       "    <tr style=\"text-align: right;\">\n",
       "      <th></th>\n",
       "      <th>participant_id</th>\n",
       "      <th>age</th>\n",
       "      <th>sex</th>\n",
       "      <th>group</th>\n",
       "    </tr>\n",
       "  </thead>\n",
       "  <tbody>\n",
       "    <tr>\n",
       "      <th>0</th>\n",
       "      <td>sub-010</td>\n",
       "      <td>13</td>\n",
       "      <td>F</td>\n",
       "      <td>kid</td>\n",
       "    </tr>\n",
       "    <tr>\n",
       "      <th>1</th>\n",
       "      <td>sub-011</td>\n",
       "      <td>14</td>\n",
       "      <td>M</td>\n",
       "      <td>kid</td>\n",
       "    </tr>\n",
       "    <tr>\n",
       "      <th>2</th>\n",
       "      <td>sub-013</td>\n",
       "      <td>13</td>\n",
       "      <td>M</td>\n",
       "      <td>kid</td>\n",
       "    </tr>\n",
       "    <tr>\n",
       "      <th>3</th>\n",
       "      <td>sub-015</td>\n",
       "      <td>12</td>\n",
       "      <td>F</td>\n",
       "      <td>kid</td>\n",
       "    </tr>\n",
       "    <tr>\n",
       "      <th>4</th>\n",
       "      <td>sub-024</td>\n",
       "      <td>12</td>\n",
       "      <td>F</td>\n",
       "      <td>kid</td>\n",
       "    </tr>\n",
       "  </tbody>\n",
       "</table>\n",
       "</div>"
      ],
      "text/plain": [
       "  participant_id  age sex group\n",
       "0        sub-010   13   F   kid\n",
       "1        sub-011   14   M   kid\n",
       "2        sub-013   13   M   kid\n",
       "3        sub-015   12   F   kid\n",
       "4        sub-024   12   F   kid"
      ]
     },
     "execution_count": 45,
     "metadata": {},
     "output_type": "execute_result"
    }
   ],
   "source": [
    "participants = pd.read_csv(bids_dir+'participants.tsv', sep='\\t')\n",
    "participants.head()"
   ]
  },
  {
   "cell_type": "code",
   "execution_count": 46,
   "id": "c333e703",
   "metadata": {},
   "outputs": [
    {
     "data": {
      "image/png": "[encoded data removed]",
      "text/plain": [
       "<Figure size 1000x400 with 3 Axes>"
      ]
     },
     "metadata": {},
     "output_type": "display_data"
    }
   ],
   "source": [
    "plt.figure(figsize=(10,4))\n",
    "\n",
    "plt.subplot(1, 3, 1)\n",
    "ax = sns.histplot(participants, x='group')\n",
    "\n",
    "plt.subplot(1, 3, 2)\n",
    "sns.histplot(participants, x='age', hue='group', legend=False)\n",
    "\n",
    "plt.subplot(1, 3, 3)\n",
    "ax = sns.histplot(participants, x='sex', hue='group')\n",
    "sns.move_legend(ax, \"upper left\", bbox_to_anchor=(1, 1))\n",
    "plt.subplots_adjust(wspace = 0.65)"
   ]
  },
  {
   "cell_type": "code",
   "execution_count": 47,
   "id": "538a3763",
   "metadata": {},
   "outputs": [
    {
     "data": {
      "text/html": [
       "<div>\n",
       "<style scoped>\n",
       "    .dataframe tbody tr th:only-of-type {\n",
       "        vertical-align: middle;\n",
       "    }\n",
       "\n",
       "    .dataframe tbody tr th {\n",
       "        vertical-align: top;\n",
       "    }\n",
       "\n",
       "    .dataframe thead th {\n",
       "        text-align: right;\n",
       "    }\n",
       "</style>\n",
       "<table border=\"1\" class=\"dataframe\">\n",
       "  <thead>\n",
       "    <tr style=\"text-align: right;\">\n",
       "      <th></th>\n",
       "      <th>count</th>\n",
       "      <th>mean</th>\n",
       "      <th>std</th>\n",
       "    </tr>\n",
       "    <tr>\n",
       "      <th>group</th>\n",
       "      <th></th>\n",
       "      <th></th>\n",
       "      <th></th>\n",
       "    </tr>\n",
       "  </thead>\n",
       "  <tbody>\n",
       "    <tr>\n",
       "      <th>college</th>\n",
       "      <td>45</td>\n",
       "      <td>21.577778</td>\n",
       "      <td>3.875851</td>\n",
       "    </tr>\n",
       "    <tr>\n",
       "      <th>kid</th>\n",
       "      <td>37</td>\n",
       "      <td>13.378378</td>\n",
       "      <td>1.232688</td>\n",
       "    </tr>\n",
       "  </tbody>\n",
       "</table>\n",
       "</div>"
      ],
      "text/plain": [
       "         count       mean       std\n",
       "group                              \n",
       "college     45  21.577778  3.875851\n",
       "kid         37  13.378378  1.232688"
      ]
     },
     "execution_count": 47,
     "metadata": {},
     "output_type": "execute_result"
    }
   ],
   "source": [
    "participants['age'].groupby(participants['group']).agg(['count','mean','std'])\n"
   ]
  },
  {
   "cell_type": "code",
   "execution_count": 48,
   "id": "495c784c",
   "metadata": {},
   "outputs": [
    {
     "data": {
      "text/html": [
       "<div>\n",
       "<style scoped>\n",
       "    .dataframe tbody tr th:only-of-type {\n",
       "        vertical-align: middle;\n",
       "    }\n",
       "\n",
       "    .dataframe tbody tr th {\n",
       "        vertical-align: top;\n",
       "    }\n",
       "\n",
       "    .dataframe thead th {\n",
       "        text-align: right;\n",
       "    }\n",
       "</style>\n",
       "<table border=\"1\" class=\"dataframe\">\n",
       "  <thead>\n",
       "    <tr style=\"text-align: right;\">\n",
       "      <th></th>\n",
       "      <th></th>\n",
       "      <th>participant_id</th>\n",
       "      <th>age</th>\n",
       "    </tr>\n",
       "    <tr>\n",
       "      <th>group</th>\n",
       "      <th>sex</th>\n",
       "      <th></th>\n",
       "      <th></th>\n",
       "    </tr>\n",
       "  </thead>\n",
       "  <tbody>\n",
       "    <tr>\n",
       "      <th rowspan=\"2\" valign=\"top\">college</th>\n",
       "      <th>F</th>\n",
       "      <td>29</td>\n",
       "      <td>29</td>\n",
       "    </tr>\n",
       "    <tr>\n",
       "      <th>M</th>\n",
       "      <td>16</td>\n",
       "      <td>16</td>\n",
       "    </tr>\n",
       "    <tr>\n",
       "      <th rowspan=\"2\" valign=\"top\">kid</th>\n",
       "      <th>F</th>\n",
       "      <td>17</td>\n",
       "      <td>17</td>\n",
       "    </tr>\n",
       "    <tr>\n",
       "      <th>M</th>\n",
       "      <td>20</td>\n",
       "      <td>20</td>\n",
       "    </tr>\n",
       "  </tbody>\n",
       "</table>\n",
       "</div>"
      ],
      "text/plain": [
       "             participant_id  age\n",
       "group   sex                     \n",
       "college F                29   29\n",
       "        M                16   16\n",
       "kid     F                17   17\n",
       "        M                20   20"
      ]
     },
     "execution_count": 48,
     "metadata": {},
     "output_type": "execute_result"
    }
   ],
   "source": [
    "participants.groupby(['group', 'sex']).count()"
   ]
  },
  {
   "cell_type": "code",
   "execution_count": 53,
   "id": "a3cbc93d",
   "metadata": {},
   "outputs": [
    {
     "data": {
      "text/plain": [
       "group\n",
       "college    18\n",
       "kid        11\n",
       "Name: age, dtype: int64"
      ]
     },
     "execution_count": 53,
     "metadata": {},
     "output_type": "execute_result"
    }
   ],
   "source": [
    "participants['age'].groupby(participants['group']).min()"
   ]
  },
  {
   "cell_type": "code",
   "execution_count": 54,
   "id": "9cf6a3f4",
   "metadata": {},
   "outputs": [
    {
     "data": {
      "text/plain": [
       "group\n",
       "college    36\n",
       "kid        16\n",
       "Name: age, dtype: int64"
      ]
     },
     "execution_count": 54,
     "metadata": {},
     "output_type": "execute_result"
    }
   ],
   "source": [
    "participants['age'].groupby(participants['group']).max()"
   ]
  },
  {
   "cell_type": "markdown",
   "id": "62a533d0",
   "metadata": {},
   "source": [
    "# Univariate Analysis"
   ]
  },
  {
   "cell_type": "code",
   "execution_count": 25,
   "id": "8cbb3ba5",
   "metadata": {},
   "outputs": [
    {
     "data": {
      "text/plain": [
       "61"
      ]
     },
     "execution_count": 25,
     "metadata": {},
     "output_type": "execute_result"
    }
   ],
   "source": [
    "univariate_subjs = pd.read_csv(os.path.join(bids_dir, 'derivatives', 'univariate_roi', \n",
    "                                            'all_sub_roi_contrasts.csv'))\n",
    "len(univariate_subjs['subject_id'].unique())"
   ]
  },
  {
   "cell_type": "code",
   "execution_count": 29,
   "id": "ebd32afd",
   "metadata": {},
   "outputs": [
    {
     "data": {
      "text/html": [
       "<div>\n",
       "<style scoped>\n",
       "    .dataframe tbody tr th:only-of-type {\n",
       "        vertical-align: middle;\n",
       "    }\n",
       "\n",
       "    .dataframe tbody tr th {\n",
       "        vertical-align: top;\n",
       "    }\n",
       "\n",
       "    .dataframe thead th {\n",
       "        text-align: right;\n",
       "    }\n",
       "</style>\n",
       "<table border=\"1\" class=\"dataframe\">\n",
       "  <thead>\n",
       "    <tr style=\"text-align: right;\">\n",
       "      <th></th>\n",
       "      <th>participant_id</th>\n",
       "      <th>age</th>\n",
       "      <th>sex</th>\n",
       "      <th>group</th>\n",
       "    </tr>\n",
       "  </thead>\n",
       "  <tbody>\n",
       "    <tr>\n",
       "      <th>0</th>\n",
       "      <td>sub-010</td>\n",
       "      <td>13</td>\n",
       "      <td>F</td>\n",
       "      <td>kid</td>\n",
       "    </tr>\n",
       "    <tr>\n",
       "      <th>2</th>\n",
       "      <td>sub-013</td>\n",
       "      <td>13</td>\n",
       "      <td>M</td>\n",
       "      <td>kid</td>\n",
       "    </tr>\n",
       "    <tr>\n",
       "      <th>5</th>\n",
       "      <td>sub-028</td>\n",
       "      <td>15</td>\n",
       "      <td>M</td>\n",
       "      <td>kid</td>\n",
       "    </tr>\n",
       "    <tr>\n",
       "      <th>6</th>\n",
       "      <td>sub-036</td>\n",
       "      <td>16</td>\n",
       "      <td>F</td>\n",
       "      <td>kid</td>\n",
       "    </tr>\n",
       "    <tr>\n",
       "      <th>7</th>\n",
       "      <td>sub-5049</td>\n",
       "      <td>12</td>\n",
       "      <td>F</td>\n",
       "      <td>kid</td>\n",
       "    </tr>\n",
       "  </tbody>\n",
       "</table>\n",
       "</div>"
      ],
      "text/plain": [
       "  participant_id  age sex group\n",
       "0        sub-010   13   F   kid\n",
       "2        sub-013   13   M   kid\n",
       "5        sub-028   15   M   kid\n",
       "6        sub-036   16   F   kid\n",
       "7       sub-5049   12   F   kid"
      ]
     },
     "execution_count": 29,
     "metadata": {},
     "output_type": "execute_result"
    }
   ],
   "source": [
    "participants_uni = participants[participants['participant_id'].isin(univariate_subjs['subject_id'].unique())]\n",
    "participants_uni.head()"
   ]
  },
  {
   "cell_type": "code",
   "execution_count": 30,
   "id": "0e9f1c64",
   "metadata": {},
   "outputs": [
    {
     "data": {
      "image/png": "[encoded data removed]",
      "text/plain": [
       "<Figure size 1000x400 with 3 Axes>"
      ]
     },
     "metadata": {},
     "output_type": "display_data"
    }
   ],
   "source": [
    "plt.figure(figsize=(10,4))\n",
    "\n",
    "plt.subplot(1, 3, 1)\n",
    "ax = sns.histplot(participants_uni, x='group')\n",
    "\n",
    "plt.subplot(1, 3, 2)\n",
    "sns.histplot(participants_uni, x='age', hue='group', legend=False)\n",
    "\n",
    "plt.subplot(1, 3, 3)\n",
    "ax = sns.histplot(participants_uni, x='sex', hue='group')\n",
    "sns.move_legend(ax, \"upper left\", bbox_to_anchor=(1, 1))\n",
    "plt.subplots_adjust(wspace = 0.65)"
   ]
  },
  {
   "cell_type": "code",
   "execution_count": 31,
   "id": "12bf18a2",
   "metadata": {},
   "outputs": [
    {
     "data": {
      "text/html": [
       "<div>\n",
       "<style scoped>\n",
       "    .dataframe tbody tr th:only-of-type {\n",
       "        vertical-align: middle;\n",
       "    }\n",
       "\n",
       "    .dataframe tbody tr th {\n",
       "        vertical-align: top;\n",
       "    }\n",
       "\n",
       "    .dataframe thead th {\n",
       "        text-align: right;\n",
       "    }\n",
       "</style>\n",
       "<table border=\"1\" class=\"dataframe\">\n",
       "  <thead>\n",
       "    <tr style=\"text-align: right;\">\n",
       "      <th></th>\n",
       "      <th>count</th>\n",
       "      <th>mean</th>\n",
       "      <th>std</th>\n",
       "    </tr>\n",
       "    <tr>\n",
       "      <th>group</th>\n",
       "      <th></th>\n",
       "      <th></th>\n",
       "      <th></th>\n",
       "    </tr>\n",
       "  </thead>\n",
       "  <tbody>\n",
       "    <tr>\n",
       "      <th>college</th>\n",
       "      <td>29</td>\n",
       "      <td>21.206897</td>\n",
       "      <td>3.342148</td>\n",
       "    </tr>\n",
       "    <tr>\n",
       "      <th>kid</th>\n",
       "      <td>32</td>\n",
       "      <td>13.375000</td>\n",
       "      <td>1.237844</td>\n",
       "    </tr>\n",
       "  </tbody>\n",
       "</table>\n",
       "</div>"
      ],
      "text/plain": [
       "         count       mean       std\n",
       "group                              \n",
       "college     29  21.206897  3.342148\n",
       "kid         32  13.375000  1.237844"
      ]
     },
     "execution_count": 31,
     "metadata": {},
     "output_type": "execute_result"
    }
   ],
   "source": [
    "participants_uni['age'].groupby(participants_uni['group']).agg(['count','mean','std'])"
   ]
  },
  {
   "cell_type": "code",
   "execution_count": 32,
   "id": "71e4fdd4",
   "metadata": {},
   "outputs": [
    {
     "data": {
      "text/html": [
       "<div>\n",
       "<style scoped>\n",
       "    .dataframe tbody tr th:only-of-type {\n",
       "        vertical-align: middle;\n",
       "    }\n",
       "\n",
       "    .dataframe tbody tr th {\n",
       "        vertical-align: top;\n",
       "    }\n",
       "\n",
       "    .dataframe thead th {\n",
       "        text-align: right;\n",
       "    }\n",
       "</style>\n",
       "<table border=\"1\" class=\"dataframe\">\n",
       "  <thead>\n",
       "    <tr style=\"text-align: right;\">\n",
       "      <th></th>\n",
       "      <th></th>\n",
       "      <th>participant_id</th>\n",
       "      <th>age</th>\n",
       "    </tr>\n",
       "    <tr>\n",
       "      <th>group</th>\n",
       "      <th>sex</th>\n",
       "      <th></th>\n",
       "      <th></th>\n",
       "    </tr>\n",
       "  </thead>\n",
       "  <tbody>\n",
       "    <tr>\n",
       "      <th rowspan=\"2\" valign=\"top\">college</th>\n",
       "      <th>F</th>\n",
       "      <td>21</td>\n",
       "      <td>21</td>\n",
       "    </tr>\n",
       "    <tr>\n",
       "      <th>M</th>\n",
       "      <td>8</td>\n",
       "      <td>8</td>\n",
       "    </tr>\n",
       "    <tr>\n",
       "      <th rowspan=\"2\" valign=\"top\">kid</th>\n",
       "      <th>F</th>\n",
       "      <td>15</td>\n",
       "      <td>15</td>\n",
       "    </tr>\n",
       "    <tr>\n",
       "      <th>M</th>\n",
       "      <td>17</td>\n",
       "      <td>17</td>\n",
       "    </tr>\n",
       "  </tbody>\n",
       "</table>\n",
       "</div>"
      ],
      "text/plain": [
       "             participant_id  age\n",
       "group   sex                     \n",
       "college F                21   21\n",
       "        M                 8    8\n",
       "kid     F                15   15\n",
       "        M                17   17"
      ]
     },
     "execution_count": 32,
     "metadata": {},
     "output_type": "execute_result"
    }
   ],
   "source": [
    "participants_uni.groupby(['group', 'sex']).count()"
   ]
  },
  {
   "cell_type": "code",
   "execution_count": 55,
   "id": "8168846b",
   "metadata": {},
   "outputs": [
    {
     "data": {
      "text/plain": [
       "group\n",
       "college    18\n",
       "kid        11\n",
       "Name: age, dtype: int64"
      ]
     },
     "execution_count": 55,
     "metadata": {},
     "output_type": "execute_result"
    }
   ],
   "source": [
    "participants_uni['age'].groupby(participants_uni['group']).min()"
   ]
  },
  {
   "cell_type": "code",
   "execution_count": 56,
   "id": "ffd71512",
   "metadata": {},
   "outputs": [
    {
     "data": {
      "text/plain": [
       "group\n",
       "college    36\n",
       "kid        16\n",
       "Name: age, dtype: int64"
      ]
     },
     "execution_count": 56,
     "metadata": {},
     "output_type": "execute_result"
    }
   ],
   "source": [
    "participants_uni['age'].groupby(participants_uni['group']).max()"
   ]
  },
  {
   "cell_type": "markdown",
   "id": "5db3432e",
   "metadata": {},
   "source": [
    "# Representational Similarity Analysis"
   ]
  },
  {
   "cell_type": "code",
   "execution_count": 38,
   "id": "276b4fd3",
   "metadata": {},
   "outputs": [
    {
     "data": {
      "text/plain": [
       "61"
      ]
     },
     "execution_count": 38,
     "metadata": {},
     "output_type": "execute_result"
    }
   ],
   "source": [
    "rsa_subjs = pd.read_csv(os.path.join(bids_dir, 'derivatives', 'rsa-bw_runs-fb_only', \n",
    "                                            'posnegwin_similarity.csv'))\n",
    "len(rsa_subjs['subj'].unique())"
   ]
  },
  {
   "cell_type": "code",
   "execution_count": 39,
   "id": "607b1d2e",
   "metadata": {},
   "outputs": [
    {
     "data": {
      "text/html": [
       "<div>\n",
       "<style scoped>\n",
       "    .dataframe tbody tr th:only-of-type {\n",
       "        vertical-align: middle;\n",
       "    }\n",
       "\n",
       "    .dataframe tbody tr th {\n",
       "        vertical-align: top;\n",
       "    }\n",
       "\n",
       "    .dataframe thead th {\n",
       "        text-align: right;\n",
       "    }\n",
       "</style>\n",
       "<table border=\"1\" class=\"dataframe\">\n",
       "  <thead>\n",
       "    <tr style=\"text-align: right;\">\n",
       "      <th></th>\n",
       "      <th>participant_id</th>\n",
       "      <th>age</th>\n",
       "      <th>sex</th>\n",
       "      <th>group</th>\n",
       "    </tr>\n",
       "  </thead>\n",
       "  <tbody>\n",
       "    <tr>\n",
       "      <th>0</th>\n",
       "      <td>sub-010</td>\n",
       "      <td>13</td>\n",
       "      <td>F</td>\n",
       "      <td>kid</td>\n",
       "    </tr>\n",
       "    <tr>\n",
       "      <th>2</th>\n",
       "      <td>sub-013</td>\n",
       "      <td>13</td>\n",
       "      <td>M</td>\n",
       "      <td>kid</td>\n",
       "    </tr>\n",
       "    <tr>\n",
       "      <th>5</th>\n",
       "      <td>sub-028</td>\n",
       "      <td>15</td>\n",
       "      <td>M</td>\n",
       "      <td>kid</td>\n",
       "    </tr>\n",
       "    <tr>\n",
       "      <th>6</th>\n",
       "      <td>sub-036</td>\n",
       "      <td>16</td>\n",
       "      <td>F</td>\n",
       "      <td>kid</td>\n",
       "    </tr>\n",
       "    <tr>\n",
       "      <th>7</th>\n",
       "      <td>sub-5049</td>\n",
       "      <td>12</td>\n",
       "      <td>F</td>\n",
       "      <td>kid</td>\n",
       "    </tr>\n",
       "  </tbody>\n",
       "</table>\n",
       "</div>"
      ],
      "text/plain": [
       "  participant_id  age sex group\n",
       "0        sub-010   13   F   kid\n",
       "2        sub-013   13   M   kid\n",
       "5        sub-028   15   M   kid\n",
       "6        sub-036   16   F   kid\n",
       "7       sub-5049   12   F   kid"
      ]
     },
     "execution_count": 39,
     "metadata": {},
     "output_type": "execute_result"
    }
   ],
   "source": [
    "participants_rsa = participants[participants['participant_id'].isin(rsa_subjs['subj'].unique())]\n",
    "participants_rsa.head()"
   ]
  },
  {
   "cell_type": "code",
   "execution_count": 40,
   "id": "cb6b6e2d",
   "metadata": {},
   "outputs": [
    {
     "data": {
      "image/png": "[encoded data removed]",
      "text/plain": [
       "<Figure size 1000x400 with 3 Axes>"
      ]
     },
     "metadata": {},
     "output_type": "display_data"
    }
   ],
   "source": [
    "plt.figure(figsize=(10,4))\n",
    "\n",
    "plt.subplot(1, 3, 1)\n",
    "ax = sns.histplot(participants_uni, x='group')\n",
    "\n",
    "plt.subplot(1, 3, 2)\n",
    "sns.histplot(participants_uni, x='age', hue='group', legend=False)\n",
    "\n",
    "plt.subplot(1, 3, 3)\n",
    "ax = sns.histplot(participants_uni, x='sex', hue='group')\n",
    "sns.move_legend(ax, \"upper left\", bbox_to_anchor=(1, 1))\n",
    "plt.subplots_adjust(wspace = 0.65)"
   ]
  },
  {
   "cell_type": "code",
   "execution_count": 41,
   "id": "e36cad1b",
   "metadata": {},
   "outputs": [
    {
     "data": {
      "text/html": [
       "<div>\n",
       "<style scoped>\n",
       "    .dataframe tbody tr th:only-of-type {\n",
       "        vertical-align: middle;\n",
       "    }\n",
       "\n",
       "    .dataframe tbody tr th {\n",
       "        vertical-align: top;\n",
       "    }\n",
       "\n",
       "    .dataframe thead th {\n",
       "        text-align: right;\n",
       "    }\n",
       "</style>\n",
       "<table border=\"1\" class=\"dataframe\">\n",
       "  <thead>\n",
       "    <tr style=\"text-align: right;\">\n",
       "      <th></th>\n",
       "      <th>count</th>\n",
       "      <th>mean</th>\n",
       "      <th>std</th>\n",
       "    </tr>\n",
       "    <tr>\n",
       "      <th>group</th>\n",
       "      <th></th>\n",
       "      <th></th>\n",
       "      <th></th>\n",
       "    </tr>\n",
       "  </thead>\n",
       "  <tbody>\n",
       "    <tr>\n",
       "      <th>college</th>\n",
       "      <td>29</td>\n",
       "      <td>21.206897</td>\n",
       "      <td>3.342148</td>\n",
       "    </tr>\n",
       "    <tr>\n",
       "      <th>kid</th>\n",
       "      <td>32</td>\n",
       "      <td>13.375000</td>\n",
       "      <td>1.237844</td>\n",
       "    </tr>\n",
       "  </tbody>\n",
       "</table>\n",
       "</div>"
      ],
      "text/plain": [
       "         count       mean       std\n",
       "group                              \n",
       "college     29  21.206897  3.342148\n",
       "kid         32  13.375000  1.237844"
      ]
     },
     "execution_count": 41,
     "metadata": {},
     "output_type": "execute_result"
    }
   ],
   "source": [
    "participants_uni['age'].groupby(participants_uni['group']).agg(['count','mean','std'])"
   ]
  },
  {
   "cell_type": "code",
   "execution_count": 42,
   "id": "df37c0c2",
   "metadata": {},
   "outputs": [
    {
     "data": {
      "text/html": [
       "<div>\n",
       "<style scoped>\n",
       "    .dataframe tbody tr th:only-of-type {\n",
       "        vertical-align: middle;\n",
       "    }\n",
       "\n",
       "    .dataframe tbody tr th {\n",
       "        vertical-align: top;\n",
       "    }\n",
       "\n",
       "    .dataframe thead th {\n",
       "        text-align: right;\n",
       "    }\n",
       "</style>\n",
       "<table border=\"1\" class=\"dataframe\">\n",
       "  <thead>\n",
       "    <tr style=\"text-align: right;\">\n",
       "      <th></th>\n",
       "      <th></th>\n",
       "      <th>participant_id</th>\n",
       "      <th>age</th>\n",
       "    </tr>\n",
       "    <tr>\n",
       "      <th>group</th>\n",
       "      <th>sex</th>\n",
       "      <th></th>\n",
       "      <th></th>\n",
       "    </tr>\n",
       "  </thead>\n",
       "  <tbody>\n",
       "    <tr>\n",
       "      <th rowspan=\"2\" valign=\"top\">college</th>\n",
       "      <th>F</th>\n",
       "      <td>21</td>\n",
       "      <td>21</td>\n",
       "    </tr>\n",
       "    <tr>\n",
       "      <th>M</th>\n",
       "      <td>8</td>\n",
       "      <td>8</td>\n",
       "    </tr>\n",
       "    <tr>\n",
       "      <th rowspan=\"2\" valign=\"top\">kid</th>\n",
       "      <th>F</th>\n",
       "      <td>15</td>\n",
       "      <td>15</td>\n",
       "    </tr>\n",
       "    <tr>\n",
       "      <th>M</th>\n",
       "      <td>17</td>\n",
       "      <td>17</td>\n",
       "    </tr>\n",
       "  </tbody>\n",
       "</table>\n",
       "</div>"
      ],
      "text/plain": [
       "             participant_id  age\n",
       "group   sex                     \n",
       "college F                21   21\n",
       "        M                 8    8\n",
       "kid     F                15   15\n",
       "        M                17   17"
      ]
     },
     "execution_count": 42,
     "metadata": {},
     "output_type": "execute_result"
    }
   ],
   "source": [
    "participants_uni.groupby(['group', 'sex']).count()"
   ]
  },
  {
   "cell_type": "code",
   "execution_count": null,
   "id": "1516c10f",
   "metadata": {},
   "outputs": [],
   "source": []
  }
 ],
 "metadata": {
  "kernelspec": {
   "display_name": "Python 3 (ipykernel)",
   "language": "python",
   "name": "python3"
  },
  "language_info": {
   "codemirror_mode": {
    "name": "ipython",
    "version": 3
   },
   "file_extension": ".py",
   "mimetype": "text/x-python",
   "name": "python",
   "nbconvert_exporter": "python",
   "pygments_lexer": "ipython3",
   "version": "3.11.4"
  }
 },
 "nbformat": 4,
 "nbformat_minor": 5
}
