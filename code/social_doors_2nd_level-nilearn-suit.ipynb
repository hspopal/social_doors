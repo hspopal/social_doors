{
 "cells": [
  {
   "cell_type": "markdown",
   "id": "a7c339ef",
   "metadata": {
    "toc": true
   },
   "source": [
    "<h1>Table of Contents<span class=\"tocSkip\"></span></h1>\n",
    "<div class=\"toc\"><ul class=\"toc-item\"><li><span><a href=\"#Second-Level-Design-Matrix\" data-toc-modified-id=\"Second-Level-Design-Matrix-1\"><span class=\"toc-item-num\">1&nbsp;&nbsp;</span>Second Level Design Matrix</a></span></li><li><span><a href=\"#Valence-x-Outcome-Sanity-Check\" data-toc-modified-id=\"Valence-x-Outcome-Sanity-Check-2\"><span class=\"toc-item-num\">2&nbsp;&nbsp;</span>Valence x Outcome Sanity Check</a></span></li><li><span><a href=\"#Adolescent-Cohort\" data-toc-modified-id=\"Adolescent-Cohort-3\"><span class=\"toc-item-num\">3&nbsp;&nbsp;</span>Adolescent Cohort</a></span><ul class=\"toc-item\"><li><span><a href=\"#Monetary-Task\" data-toc-modified-id=\"Monetary-Task-3.1\"><span class=\"toc-item-num\">3.1&nbsp;&nbsp;</span>Monetary Task</a></span><ul class=\"toc-item\"><li><span><a href=\"#Positive-win->-Positive-loss\" data-toc-modified-id=\"Positive-win->-Positive-loss-3.1.1\"><span class=\"toc-item-num\">3.1.1&nbsp;&nbsp;</span>Positive win &gt; Positive loss</a></span></li><li><span><a href=\"#All-wins->-All-losses\" data-toc-modified-id=\"All-wins->-All-losses-3.1.2\"><span class=\"toc-item-num\">3.1.2&nbsp;&nbsp;</span>All wins &gt; All losses</a></span></li></ul></li><li><span><a href=\"#Social-Task\" data-toc-modified-id=\"Social-Task-3.2\"><span class=\"toc-item-num\">3.2&nbsp;&nbsp;</span>Social Task</a></span><ul class=\"toc-item\"><li><span><a href=\"#Positive-win->-Positive-loss\" data-toc-modified-id=\"Positive-win->-Positive-loss-3.2.1\"><span class=\"toc-item-num\">3.2.1&nbsp;&nbsp;</span>Positive win &gt; Positive loss</a></span></li><li><span><a href=\"#All-wins->-All-losses\" data-toc-modified-id=\"All-wins->-All-losses-3.2.2\"><span class=\"toc-item-num\">3.2.2&nbsp;&nbsp;</span>All wins &gt; All losses</a></span></li></ul></li></ul></li><li><span><a href=\"#Young-Adult-Cohort\" data-toc-modified-id=\"Young-Adult-Cohort-4\"><span class=\"toc-item-num\">4&nbsp;&nbsp;</span>Young Adult Cohort</a></span><ul class=\"toc-item\"><li><span><a href=\"#Monetary-Task\" data-toc-modified-id=\"Monetary-Task-4.1\"><span class=\"toc-item-num\">4.1&nbsp;&nbsp;</span>Monetary Task</a></span><ul class=\"toc-item\"><li><span><a href=\"#Positive-win->-Positive-loss\" data-toc-modified-id=\"Positive-win->-Positive-loss-4.1.1\"><span class=\"toc-item-num\">4.1.1&nbsp;&nbsp;</span>Positive win &gt; Positive loss</a></span></li><li><span><a href=\"#All-wins->-All-losses\" data-toc-modified-id=\"All-wins->-All-losses-4.1.2\"><span class=\"toc-item-num\">4.1.2&nbsp;&nbsp;</span>All wins &gt; All losses</a></span></li></ul></li><li><span><a href=\"#Social-Task\" data-toc-modified-id=\"Social-Task-4.2\"><span class=\"toc-item-num\">4.2&nbsp;&nbsp;</span>Social Task</a></span><ul class=\"toc-item\"><li><span><a href=\"#Positive-win->-Positive-loss\" data-toc-modified-id=\"Positive-win->-Positive-loss-4.2.1\"><span class=\"toc-item-num\">4.2.1&nbsp;&nbsp;</span>Positive win &gt; Positive loss</a></span></li><li><span><a href=\"#All-wins->-All-losses\" data-toc-modified-id=\"All-wins->-All-losses-4.2.2\"><span class=\"toc-item-num\">4.2.2&nbsp;&nbsp;</span>All wins &gt; All losses</a></span></li></ul></li></ul></li><li><span><a href=\"#Group-differences\" data-toc-modified-id=\"Group-differences-5\"><span class=\"toc-item-num\">5&nbsp;&nbsp;</span>Group differences</a></span><ul class=\"toc-item\"><li><span><a href=\"#Monetary-Task\" data-toc-modified-id=\"Monetary-Task-5.1\"><span class=\"toc-item-num\">5.1&nbsp;&nbsp;</span>Monetary Task</a></span></li><li><span><a href=\"#Social-Task\" data-toc-modified-id=\"Social-Task-5.2\"><span class=\"toc-item-num\">5.2&nbsp;&nbsp;</span>Social Task</a></span><ul class=\"toc-item\"><li><span><a href=\"#Positive-win->-Positive-loss\" data-toc-modified-id=\"Positive-win->-Positive-loss-5.2.1\"><span class=\"toc-item-num\">5.2.1&nbsp;&nbsp;</span>Positive win &gt; Positive loss</a></span></li><li><span><a href=\"#All-wins->-All-losses\" data-toc-modified-id=\"All-wins->-All-losses-5.2.2\"><span class=\"toc-item-num\">5.2.2&nbsp;&nbsp;</span>All wins &gt; All losses</a></span></li></ul></li></ul></li><li><span><a href=\"#Accounting-for-Age\" data-toc-modified-id=\"Accounting-for-Age-6\"><span class=\"toc-item-num\">6&nbsp;&nbsp;</span>Accounting for Age</a></span></li></ul></div>"
   ]
  },
  {
   "cell_type": "code",
   "execution_count": 6,
   "id": "cf13696b",
   "metadata": {},
   "outputs": [],
   "source": [
    "import os\n",
    "import glob\n",
    "import pandas as pd\n",
    "\n",
    "from matplotlib.gridspec import GridSpec\n",
    "\n",
    "# Import cerebellum packages\n",
    "import matplotlib.pyplot as plt\n",
    "import SUITPy.flatmap as flatmap\n",
    "\n",
    "from nilearn.glm.second_level import make_second_level_design_matrix\n",
    "from nilearn.plotting import plot_design_matrix, plot_stat_map\n",
    "from nilearn.glm.second_level import SecondLevelModel\n",
    "from nilearn.glm import threshold_stats_img\n",
    "\n"
   ]
  },
  {
   "cell_type": "code",
   "execution_count": 7,
   "id": "54ed5611",
   "metadata": {},
   "outputs": [
    {
     "name": "stdout",
     "output_type": "stream",
     "text": [
      "Found 32 adolescent subjects\n",
      "Found 29 college subjects\n"
     ]
    }
   ],
   "source": [
    "#bids_dir = '/data/projects/social_doors/'\n",
    "bids_dir = '/Users/haroonpopal/OneDrive - Temple University/olson_lab/projects/social_doors'\n",
    "\n",
    "\n",
    "os.chdir(bids_dir)\n",
    "\n",
    "data_dir = os.path.join(bids_dir, 'derivatives','social_doors-nilearn')\n",
    "\n",
    "# Define subject list\n",
    "#subjs_scan_info = pd.read_csv(bids_dir+'/derivatives/mriqc/mriqc_summary_poor.csv')\n",
    "#subjs_list = list(subjs_scan_info['subject'].unique())\n",
    "#subjs_list.sort()\n",
    "subjs_info = pd.read_csv(bids_dir+'/derivatives/participants_good.tsv', sep='\\t', index_col=0)\n",
    "subjs_info = subjs_info.rename(columns={'participant_id': 'subject_label'})\n",
    "\n",
    "# Remove participants with bad data\n",
    "subjs_info = subjs_info[subjs_info['subject_label'].str.contains('sub-3880')==False]\n",
    "subjs_info = subjs_info[subjs_info['subject_label'].str.contains('sub-4069')==False]\n",
    "\n",
    "\n",
    "subjs_info_kids = subjs_info[subjs_info['group']=='kid']\n",
    "subjs_info_colg = subjs_info[subjs_info['group']=='college']\n",
    "\n",
    "subjs_list = subjs_info['subject_label'].to_list()\n",
    "subjs_list_kids = subjs_info_kids['subject_label'].to_list()\n",
    "subjs_list_colg = subjs_info_colg['subject_label'].to_list()\n",
    "\n",
    "print('Found '+str(len(subjs_list_kids))+' adolescent subjects')\n",
    "print('Found '+str(len(subjs_list_colg))+' college subjects')"
   ]
  },
  {
   "cell_type": "markdown",
   "id": "37030caa",
   "metadata": {},
   "source": [
    "# Adolescents"
   ]
  },
  {
   "cell_type": "code",
   "execution_count": 8,
   "id": "892a4e0b",
   "metadata": {},
   "outputs": [],
   "source": [
    "# Filter for releveant data\n",
    "subjs_info_fltr = subjs_info[['subject_label', 'age']]\n",
    "subjs_info_kids_fltr = subjs_info_kids[['subject_label','age']]\n",
    "subjs_info_colg_fltr = subjs_info_colg[['subject_label','age']]"
   ]
  },
  {
   "cell_type": "code",
   "execution_count": 9,
   "id": "e96c8457",
   "metadata": {},
   "outputs": [],
   "source": [
    "\n",
    "design_matrix = make_second_level_design_matrix(subjs_list_kids, subjs_info_kids_fltr)"
   ]
  },
  {
   "cell_type": "code",
   "execution_count": 14,
   "id": "f3761a74",
   "metadata": {},
   "outputs": [
    {
     "data": {
      "text/plain": [
       "<AxesSubplot:label='conditions', ylabel='scan number'>"
      ]
     },
     "execution_count": 14,
     "metadata": {},
     "output_type": "execute_result"
    },
    {
     "data": {
      "image/png": "[encoded data removed]",
      "text/plain": [
       "<Figure size 146x456 with 1 Axes>"
      ]
     },
     "metadata": {},
     "output_type": "display_data"
    }
   ],
   "source": [
    "\n",
    "plot_design_matrix(design_matrix)"
   ]
  },
  {
   "cell_type": "code",
   "execution_count": 16,
   "id": "c58ee1a9",
   "metadata": {},
   "outputs": [
    {
     "name": "stdout",
     "output_type": "stream",
     "text": [
      "Calculating mdoors group all_winVlos contrast\n"
     ]
    },
    {
     "name": "stderr",
     "output_type": "stream",
     "text": [
      "/Users/haroonpopal/anaconda3/envs/py37/lib/python3.7/site-packages/nilearn/_utils/niimg.py:62: UserWarning: Non-finite values detected. These values will be replaced with zeros.\n",
      "  \"Non-finite values detected. \"\n"
     ]
    },
    {
     "name": "stdout",
     "output_type": "stream",
     "text": [
      "Intel MKL WARNING: Support of Intel(R) Streaming SIMD Extensions 4.2 (Intel(R) SSE4.2) enabled only processors has been deprecated. Intel oneAPI Math Kernel Library 2025.0 will require Intel(R) Advanced Vector Extensions (Intel(R) AVX) instructions.\n"
     ]
    },
    {
     "name": "stderr",
     "output_type": "stream",
     "text": [
      "/Users/haroonpopal/anaconda3/envs/py37/lib/python3.7/site-packages/nilearn/_utils/param_validation.py:74: UserWarning: The given float value must not exceed 3.081774327247138. But, you have given threshold=3.2905267314918945 \n",
      "  threshold))\n",
      "/Users/haroonpopal/anaconda3/envs/py37/lib/python3.7/site-packages/nilearn/_utils/param_validation.py:74: UserWarning: The given float value must not exceed 3.1950130190248287. But, you have given threshold=3.2905267314918945 \n",
      "  threshold))\n"
     ]
    },
    {
     "name": "stdout",
     "output_type": "stream",
     "text": [
      "Calculating mdoors group positive_winVlos contrast\n"
     ]
    },
    {
     "name": "stderr",
     "output_type": "stream",
     "text": [
      "/Users/haroonpopal/anaconda3/envs/py37/lib/python3.7/site-packages/nilearn/_utils/param_validation.py:74: UserWarning: The given float value must not exceed 3.111471734551946. But, you have given threshold=3.2905267314918945 \n",
      "  threshold))\n",
      "/Users/haroonpopal/anaconda3/envs/py37/lib/python3.7/site-packages/nilearn/_utils/param_validation.py:74: UserWarning: The given float value must not exceed 3.1041441651375434. But, you have given threshold=3.2905267314918945 \n",
      "  threshold))\n"
     ]
    },
    {
     "name": "stdout",
     "output_type": "stream",
     "text": [
      "Calculating social group all_winVlos contrast\n",
      "Calculating social group positive_winVlos contrast\n"
     ]
    },
    {
     "name": "stderr",
     "output_type": "stream",
     "text": [
      "/Users/haroonpopal/anaconda3/envs/py37/lib/python3.7/site-packages/nilearn/_utils/param_validation.py:74: UserWarning: The given float value must not exceed 3.154095532275578. But, you have given threshold=3.2905267314918945 \n",
      "  threshold))\n",
      "/Users/haroonpopal/anaconda3/envs/py37/lib/python3.7/site-packages/nilearn/_utils/param_validation.py:74: UserWarning: The given float value must not exceed 3.024439706820591. But, you have given threshold=3.2905267314918945 \n",
      "  threshold))\n"
     ]
    }
   ],
   "source": [
    "design_matrix = make_second_level_design_matrix(subjs_list_kids, subjs_info_kids_fltr)\n",
    "mni_mask = bids_dir+'/derivatives/social_doors/sub-010/suit/iw_c_sub-010_run-1_space-MNI152NLin2009cAsym_desc-preproc_T1w_pcereb_u_a_sub-010_run-1_space-MNI152NLin2009cAsym_label-GM_probseg.nii'\n",
    "\n",
    "#contrasts = ['valence_x_outcome',\n",
    "#             'positive','positive_win','positive_loss',\n",
    "#             'negative','negative_win','negative_loss']\n",
    "contrasts=['all_winVlos', 'positive_winVlos']\n",
    "contrasts_2nd = ['age','intercept']\n",
    "tasks = ['mdoors','social']\n",
    "group = 'kids'\n",
    "alpha = 0.001\n",
    "\n",
    "\n",
    "threshold_data = {}\n",
    "\n",
    "for task in tasks:\n",
    "    for contrast in contrasts:\n",
    "        \n",
    "        temp_file_list = []\n",
    "        for subj in subjs_list_kids:\n",
    "            temp_file = glob.glob(os.path.join(data_dir,subj,'suit',\n",
    "                                               'iw_wdzmap_'+task+'_'+contrast+'_u_a_'+subj+'_run-1_space-MNI152NLin2009cAsym_label-GM_probseg.nii'))\n",
    "            temp_file_list.append(temp_file[0])\n",
    "        temp_file_list.sort()\n",
    "        \n",
    "        print('Calculating '+task+' group '+contrast+' contrast')\n",
    "        \n",
    "        model = SecondLevelModel(mask_img=mni_mask, smoothing_fwhm=8.0)\n",
    "        model.fit(temp_file_list, design_matrix=design_matrix)\n",
    "        \n",
    "        for contrast_2nd in contrasts_2nd:\n",
    "            z_map = model.compute_contrast(contrast_2nd, output_type='z_score')\n",
    "\n",
    "            z_map.to_filename(os.path.join(data_dir,'group',\n",
    "                                       'zmap_'+group+'_'+task+'_'+contrast+'_'+contrast_2nd+'-suit_unc.nii.gz'))\n",
    "            \n",
    "            # Multiple Comparisons Correction\n",
    "            z_map_thresh, threshold = threshold_stats_img(z_map, alpha=alpha, height_control='fpr')\n",
    "            z_map_thresh.to_filename(os.path.join(data_dir,'group',\n",
    "                                       'zmap_'+group+'_'+task+'_'+contrast+'_'+contrast_2nd+'-suit_fpr.nii.gz'))\n",
    "            \n",
    "            threshold_data['zmap_'+group+'_'+task+'_'+contrast+'_'+contrast_2nd+'_fpr_'+str(alpha)] = threshold"
   ]
  },
  {
   "cell_type": "code",
   "execution_count": null,
   "id": "e2ae8d73",
   "metadata": {},
   "outputs": [],
   "source": [
    "data_dir"
   ]
  },
  {
   "cell_type": "code",
   "execution_count": null,
   "id": "1600cb5c",
   "metadata": {},
   "outputs": [],
   "source": [
    "def plot_stat_map_cb(filename, threshold):\n",
    "    # Find stat map\n",
    "    stat_filename = os.path.join(data_dir,'group',filename+'.nii.gz')\n",
    "\n",
    "    # Import stat map as a cerebellum flatmap\n",
    "    funcdata = flatmap.vol_to_surf(stat_filename,\n",
    "                                  space='SUIT')\n",
    "\n",
    "    # Set figure specs\n",
    "    fig = plt.figure(figsize=(15, 4))\n",
    "    gs = GridSpec(2, 3)\n",
    "    ax_img1 = plt.subplot(gs[0, :2])\n",
    "    ax_img2 = plt.subplot(gs[1, :2])\n",
    "\n",
    "    # Plot stat maps\n",
    "    hemi_lh = plot_stat_map(stat_filename, threshold=threshold, cut_coords=range(-65,0,10), display_mode='x', axes=ax_img1,\n",
    "                            annotate=False, title='Left hemisphere')\n",
    "    hemi_rh = plot_stat_map(stat_filename, threshold=threshold, cut_coords=range(66,5,-10), display_mode='x', axes=ax_img2,\n",
    "                            annotate=False, title='Right hemisphere')\n",
    "    hemi_lh.add_contours(stat_filename, levels=[-2.0,2.0], colors=['blue','red'], alpha=0.5, linewidths=1)\n",
    "    hemi_rh.add_contours(stat_filename, levels=[-2.0,2.0], colors=['blue','red'], alpha=0.5, linewidths=1)\n",
    "    ax_joint = plt.subplot(gs[:, 2:])\n",
    "    ax_joint.set(title='Cerebellum flatmap')\n",
    "    flatmap.plot(data=funcdata, cmap='hot',\n",
    "                threshold=[-threshold,threshold],\n",
    "                colorbar=False,\n",
    "                render='matplotlib', new_figure=False)\n"
   ]
  },
  {
   "cell_type": "markdown",
   "id": "f0d50c2e",
   "metadata": {},
   "source": [
    "### Monetary Task"
   ]
  },
  {
   "cell_type": "markdown",
   "id": "fd352b43",
   "metadata": {},
   "source": [
    "#### Positive win > Positive loss"
   ]
  },
  {
   "cell_type": "code",
   "execution_count": null,
   "id": "726c0790",
   "metadata": {},
   "outputs": [],
   "source": [
    "filename = 'zmap_kids_mdoors_positive_winVlos_intercept_'\n",
    "threshold = threshold_data[filename+'fpr_'+str(alpha)]\n",
    "#threshold=1\n",
    "\n",
    "plot_stat_map_cb(filename+'unc', threshold)"
   ]
  },
  {
   "cell_type": "markdown",
   "id": "e42eaf1e",
   "metadata": {},
   "source": [
    "#### All wins > All losses"
   ]
  },
  {
   "cell_type": "code",
   "execution_count": null,
   "id": "b0ef3915",
   "metadata": {},
   "outputs": [],
   "source": [
    "filename = 'zmap_kids_mdoors_all_winVlos_intercept_'\n",
    "threshold = threshold_data[filename+'fpr_'+str(alpha)]\n",
    "\n",
    "plot_stat_map_cb(filename+'unc', threshold)"
   ]
  },
  {
   "cell_type": "markdown",
   "id": "fda4d91b",
   "metadata": {},
   "source": [
    "### Social Task"
   ]
  },
  {
   "cell_type": "markdown",
   "id": "d5a44f6f",
   "metadata": {},
   "source": [
    "#### Positive win > Positive loss"
   ]
  },
  {
   "cell_type": "code",
   "execution_count": null,
   "id": "bbbe5bea",
   "metadata": {},
   "outputs": [],
   "source": [
    "filename = 'zmap_kids_social_positive_winVlos_intercept_'\n",
    "threshold = threshold_data[filename+'fpr_'+str(alpha)]\n",
    "\n",
    "plot_stat_map_cb(filename+'unc', threshold)"
   ]
  },
  {
   "cell_type": "markdown",
   "id": "11724f09",
   "metadata": {},
   "source": [
    "#### All wins > All losses"
   ]
  },
  {
   "cell_type": "code",
   "execution_count": null,
   "id": "0efb39c9",
   "metadata": {},
   "outputs": [],
   "source": [
    "filename = 'zmap_kids_social_all_winVlos_intercept_'\n",
    "threshold = threshold_data[filename+'fpr_'+str(alpha)]\n",
    "\n",
    "plot_stat_map_cb(filename+'unc', threshold)"
   ]
  },
  {
   "cell_type": "markdown",
   "id": "a516bbc6",
   "metadata": {},
   "source": [
    "## Young Adult Cohort"
   ]
  },
  {
   "cell_type": "code",
   "execution_count": null,
   "id": "fad0bc57",
   "metadata": {},
   "outputs": [],
   "source": [
    "design_matrix = make_second_level_design_matrix(subjs_list_colg, subjs_info_colg_fltr)\n",
    "\n",
    "\n",
    "contrasts=['all_winVlos', 'positive_winVlos']\n",
    "contrasts_2nd = ['age','intercept']\n",
    "tasks = ['mdoors','social']\n",
    "group = 'colg'\n",
    "alpha = 0.001\n",
    "\n",
    "\n",
    "threshold_data = {}\n",
    "\n",
    "for task in tasks:\n",
    "    for contrast in contrasts:\n",
    "        \n",
    "        temp_file_list = []\n",
    "        for subj in subjs_list_colg:\n",
    "            temp_file = glob.glob(os.path.join(data_dir,subj,'suit',\n",
    "                                               'iw_wdzmap_'+task+'_'+contrast+'_u_a_'+subj+'_run-1_space-MNI152NLin2009cAsym_label-GM_probseg.nii'))\n",
    "            temp_file_list.append(temp_file[0])\n",
    "        temp_file_list.sort()\n",
    "        \n",
    "        print('Calculating '+task+' group '+contrast+' contrast')\n",
    "        \n",
    "        model = SecondLevelModel(mask_img=mni_mask, smoothing_fwhm=8.0)\n",
    "        model.fit(temp_file_list, design_matrix=design_matrix)\n",
    "        \n",
    "        for contrast_2nd in contrasts_2nd:\n",
    "            z_map = model.compute_contrast(contrast_2nd, output_type='z_score')\n",
    "\n",
    "            z_map.to_filename(os.path.join(data_dir,'group',\n",
    "                                       'zmap_'+group+'_'+task+'_'+contrast+'_'+contrast_2nd+'-suit_unc.nii.gz'))\n",
    "            \n",
    "            # Multiple Comparisons Correction\n",
    "            z_map_thresh, threshold = threshold_stats_img(z_map, alpha=alpha, height_control='fpr')\n",
    "            z_map_thresh.to_filename(os.path.join(data_dir,'group',\n",
    "                                       'zmap_'+group+'_'+task+'_'+contrast+'_'+contrast_2nd+'-suit_fpr.nii.gz'))\n",
    "            \n",
    "            threshold_data['zmap_'+group+'_'+task+'_'+contrast+'_'+contrast_2nd+'_fpr_'+str(alpha)] = threshold"
   ]
  },
  {
   "cell_type": "markdown",
   "id": "20a4f1d2",
   "metadata": {},
   "source": [
    "### Monetary Task"
   ]
  },
  {
   "cell_type": "markdown",
   "id": "789ec1b8",
   "metadata": {},
   "source": [
    "#### Positive win > Positive loss"
   ]
  },
  {
   "cell_type": "code",
   "execution_count": null,
   "id": "3c7e3e31",
   "metadata": {},
   "outputs": [],
   "source": [
    "filename = 'zmap_colg_mdoors_positive_winVlos_intercept_'\n",
    "threshold = threshold_data[filename+'fpr_'+str(alpha)]\n",
    "\n",
    "plot_stat_map_cb(filename+'unc', threshold)"
   ]
  },
  {
   "cell_type": "markdown",
   "id": "44f5165f",
   "metadata": {},
   "source": [
    "#### All wins > All losses"
   ]
  },
  {
   "cell_type": "code",
   "execution_count": null,
   "id": "c947e58a",
   "metadata": {},
   "outputs": [],
   "source": [
    "filename = 'zmap_colg_mdoors_all_winVlos_intercept_'\n",
    "threshold = threshold_data[filename+'fpr_'+str(alpha)]\n",
    "\n",
    "plot_stat_map_cb(filename+'unc', threshold)"
   ]
  },
  {
   "cell_type": "markdown",
   "id": "a0c078db",
   "metadata": {},
   "source": [
    "### Social Task"
   ]
  },
  {
   "cell_type": "markdown",
   "id": "58116298",
   "metadata": {},
   "source": [
    "#### Positive win > Positive loss"
   ]
  },
  {
   "cell_type": "code",
   "execution_count": null,
   "id": "a3beb795",
   "metadata": {},
   "outputs": [],
   "source": [
    "filename = 'zmap_colg_social_positive_winVlos_intercept_'\n",
    "threshold = threshold_data[filename+'fpr_'+str(alpha)]\n",
    "\n",
    "plot_stat_map_cb(filename+'unc', threshold)"
   ]
  },
  {
   "cell_type": "markdown",
   "id": "70f6df5f",
   "metadata": {},
   "source": [
    "#### All wins > All losses"
   ]
  },
  {
   "cell_type": "code",
   "execution_count": null,
   "id": "e4489cf7",
   "metadata": {},
   "outputs": [],
   "source": [
    "filename = 'zmap_colg_social_all_winVlos_intercept_'\n",
    "threshold = threshold_data[filename+'fpr_'+str(alpha)]\n",
    "\n",
    "plot_stat_map_cb(filename+'unc', threshold)"
   ]
  },
  {
   "cell_type": "markdown",
   "id": "b8b259ac",
   "metadata": {},
   "source": [
    "# All Subjects"
   ]
  },
  {
   "cell_type": "code",
   "execution_count": null,
   "id": "f7d6d1f3",
   "metadata": {},
   "outputs": [],
   "source": [
    "subjs_info_num = subjs_info.copy()\n",
    "subjs_info_num = subjs_info_num.replace({'sex': {'F': 0, 'M': 1},\n",
    "                                         'group': {'college': -1, 'kid': 1}})\n",
    "subjs_info_num = subjs_info_num.drop(columns=['age', 'sex'])\n",
    "\n",
    "design_matrix = make_second_level_design_matrix(subjs_list, subjs_info_num)\n",
    "\n",
    "plot_design_matrix(design_matrix)"
   ]
  },
  {
   "cell_type": "code",
   "execution_count": null,
   "id": "a306be3e",
   "metadata": {},
   "outputs": [],
   "source": [
    "#design_matrix = make_second_level_design_matrix(subjs_list, subjs_info_fltr)\n",
    "\n",
    "#contrasts = ['valence_x_outcome',\n",
    "#             'positive','positive_win','positive_loss',\n",
    "#             'negative','negative_win','negative_loss']\n",
    "contrasts=['all_winVlos', 'positive_winVlos']\n",
    "contrasts_2nd = ['intercept','group']\n",
    "tasks = ['mdoors','social']\n",
    "group = 'all'\n",
    "alpha = 0.001\n",
    "\n",
    "threshold_all = {}\n",
    "\n",
    "#temp_file_list = []\n",
    "#for subj in subjs_list_kids:\n",
    "#    temp_file = glob.glob(os.path.join(data_dir,subj,'zmap_'+task+'_'+contrast+'.nii.gz'))\n",
    "#    temp_file_list.append(temp_file[0])\n",
    "for task in tasks:\n",
    "    for contrast in contrasts:\n",
    "        \n",
    "        temp_file_list = []\n",
    "        for subj in subjs_list:\n",
    "            temp_file = glob.glob(os.path.join(data_dir,subj,'suit',\n",
    "                                               'iw_wdzmap_'+task+'_'+contrast+'_u_a_'+subj+'_run-1_space-MNI152NLin2009cAsym_label-GM_probseg.nii'))\n",
    "            temp_file_list.append(temp_file[0])\n",
    "        temp_file_list.sort()\n",
    "        \n",
    "        print('Calculating '+task+' group '+contrast+' contrast')\n",
    "        \n",
    "        model = SecondLevelModel(mask_img=mni_mask, smoothing_fwhm=8.0)\n",
    "        model.fit(temp_file_list, design_matrix=design_matrix)\n",
    "        \n",
    "        for contrast_2nd in contrasts_2nd:\n",
    "            z_map = model.compute_contrast(contrast_2nd, output_type='z_score')\n",
    "\n",
    "            z_map.to_filename(os.path.join(data_dir,'group',\n",
    "                                       'zmap_'+group+'_'+task+'_'+contrast+'_'+contrast_2nd+'-suit_unc.nii.gz'))\n",
    "            \n",
    "            # Multiple Comparisons Correction\n",
    "            z_map_thresh, threshold = threshold_stats_img(z_map, alpha=alpha, height_control='fpr')\n",
    "            z_map_thresh.to_filename(os.path.join(data_dir,'group',\n",
    "                                       'zmap_'+group+'_'+task+'_'+contrast+'_'+contrast_2nd+'-suit_fpr.nii.gz'))\n",
    "            \n",
    "            threshold_data['zmap_'+group+'_'+task+'_'+contrast+'_'+contrast_2nd+'_fpr_'+str(alpha)] = threshold"
   ]
  },
  {
   "cell_type": "markdown",
   "id": "6cfa0fdc",
   "metadata": {},
   "source": [
    "## Group differences \n",
    "Where adolescents > young adults"
   ]
  },
  {
   "cell_type": "markdown",
   "id": "55bff72e",
   "metadata": {},
   "source": [
    "### Monetary Task"
   ]
  },
  {
   "cell_type": "markdown",
   "id": "be5d4755",
   "metadata": {},
   "source": [
    "#### Positive win > Positive loss"
   ]
  },
  {
   "cell_type": "code",
   "execution_count": null,
   "id": "7bee3521",
   "metadata": {},
   "outputs": [],
   "source": [
    "filename = 'zmap_all_mdoors_positive_winVlos_group_'\n",
    "threshold = threshold_data[filename+'fpr_'+str(alpha)]\n",
    "\n",
    "plot_stat_map_cb(filename+'unc', threshold)"
   ]
  },
  {
   "cell_type": "markdown",
   "id": "6d5d57b9",
   "metadata": {},
   "source": [
    "#### All wins > All losses"
   ]
  },
  {
   "cell_type": "code",
   "execution_count": null,
   "id": "8de9dee5",
   "metadata": {},
   "outputs": [],
   "source": [
    "filename = 'zmap_all_mdoors_all_winVlos_group_'\n",
    "threshold = threshold_data[filename+'fpr_'+str(alpha)]\n",
    "\n",
    "plot_stat_map_cb(filename+'unc', threshold)"
   ]
  },
  {
   "cell_type": "markdown",
   "id": "87eebff2",
   "metadata": {},
   "source": [
    "### Social Task"
   ]
  },
  {
   "cell_type": "markdown",
   "id": "21a0ea6f",
   "metadata": {},
   "source": [
    "#### Positive win > Positive loss"
   ]
  },
  {
   "cell_type": "code",
   "execution_count": null,
   "id": "535d26ce",
   "metadata": {},
   "outputs": [],
   "source": [
    "filename = 'zmap_all_social_positive_winVlos_group_'\n",
    "threshold = threshold_data[filename+'fpr_'+str(alpha)]\n",
    "\n",
    "plot_stat_map_cb(filename+'unc', threshold)"
   ]
  },
  {
   "cell_type": "markdown",
   "id": "1991d2f8",
   "metadata": {},
   "source": [
    "#### All wins > All losses"
   ]
  },
  {
   "cell_type": "code",
   "execution_count": null,
   "id": "3878b2ae",
   "metadata": {},
   "outputs": [],
   "source": [
    "filename = 'zmap_all_social_all_winVlos_group_'\n",
    "threshold = threshold_data[filename+'fpr_'+str(alpha)]\n",
    "\n",
    "plot_stat_map_cb(filename+'unc', threshold)"
   ]
  },
  {
   "cell_type": "markdown",
   "id": "300bb7c4",
   "metadata": {},
   "source": [
    "## Accounting for Age"
   ]
  },
  {
   "cell_type": "markdown",
   "id": "4d03acbd",
   "metadata": {},
   "source": [
    "### Monetary Task"
   ]
  },
  {
   "cell_type": "markdown",
   "id": "8bdc0f03",
   "metadata": {},
   "source": [
    "#### Positive win > Positive loss"
   ]
  },
  {
   "cell_type": "code",
   "execution_count": null,
   "id": "c2f0aee6",
   "metadata": {},
   "outputs": [],
   "source": [
    "filename = 'zmap_all_mdoors_positive_winVlos_intercept_'\n",
    "threshold = threshold_data[filename+'fpr_'+str(alpha)]\n",
    "\n",
    "plot_stat_map_cb(filename+'unc', threshold)"
   ]
  },
  {
   "cell_type": "markdown",
   "id": "e1227b73",
   "metadata": {},
   "source": [
    "#### All wins > All losses"
   ]
  },
  {
   "cell_type": "code",
   "execution_count": null,
   "id": "7692f25b",
   "metadata": {},
   "outputs": [],
   "source": [
    "filename = 'zmap_all_mdoors_all_winVlos_intercept_'\n",
    "threshold = threshold_data[filename+'fpr_'+str(alpha)]\n",
    "\n",
    "plot_stat_map_cb(filename+'unc', threshold)"
   ]
  },
  {
   "cell_type": "markdown",
   "id": "2c84a133",
   "metadata": {},
   "source": [
    "### Social Task"
   ]
  },
  {
   "cell_type": "markdown",
   "id": "053db96e",
   "metadata": {},
   "source": [
    "#### Positive wins > Positive losses"
   ]
  },
  {
   "cell_type": "code",
   "execution_count": null,
   "id": "524f0c87",
   "metadata": {},
   "outputs": [],
   "source": [
    "filename = 'zmap_all_social_positive_winVlos_intercept_'\n",
    "threshold = threshold_data[filename+'fpr_'+str(alpha)]\n",
    "\n",
    "plot_stat_map_cb(filename+'unc', threshold)"
   ]
  },
  {
   "cell_type": "markdown",
   "id": "f03e59d7",
   "metadata": {},
   "source": [
    "#### All wins > All losses"
   ]
  },
  {
   "cell_type": "code",
   "execution_count": null,
   "id": "e02b04fb",
   "metadata": {},
   "outputs": [],
   "source": [
    "filename = 'zmap_all_social_all_winVlos_intercept_'\n",
    "threshold = threshold_data[filename+'fpr_'+str(alpha)]\n",
    "\n",
    "plot_stat_map_cb(filename+'unc', threshold)"
   ]
  },
  {
   "cell_type": "markdown",
   "id": "0fbdb71c",
   "metadata": {},
   "source": [
    "# Behavioral Analysis"
   ]
  },
  {
   "cell_type": "code",
   "execution_count": null,
   "id": "02f6306c",
   "metadata": {},
   "outputs": [],
   "source": [
    "behav_data = pd.read_excel(bids_dir+'/derivatives/behavioral/aggregate_full_data_SPSS_020419.xlsx',\n",
    "                          sheet_name='Sheet1')\n",
    "\n",
    "behav_data.head()"
   ]
  },
  {
   "cell_type": "code",
   "execution_count": null,
   "id": "98d7a5f0",
   "metadata": {},
   "outputs": [],
   "source": [
    "behav_data_fltr = behav_data[['Subject','ch_totanx', 'ch_cdi_total']]\n",
    "\n",
    "behav_data_fltr['Subject'] = behav_data_fltr['Subject'].str.replace('s','sub-')\n",
    "\n",
    "behav_data_fltr = behav_data_fltr.rename(columns={'Subject':'subject_label'})\n",
    "\n",
    "behav_data_fltr.head()"
   ]
  },
  {
   "cell_type": "code",
   "execution_count": null,
   "id": "b8059b1c",
   "metadata": {},
   "outputs": [],
   "source": [
    "# Add behavioral data to design matrix\n",
    "\n",
    "subjs_info_kids_behav = subjs_info_kids_fltr.merge(behav_data_fltr, on='subject_label')\n",
    "\n",
    "\n",
    "design_matrix = make_second_level_design_matrix(subjs_list_kids, subjs_info_kids_behav)\n",
    "\n",
    "plot_design_matrix(design_matrix)"
   ]
  },
  {
   "cell_type": "code",
   "execution_count": null,
   "id": "5e363df8",
   "metadata": {},
   "outputs": [],
   "source": [
    "#design_matrix = make_second_level_design_matrix(subjs_list_kids, subjs_info_kids_fltr)\n",
    "mni_mask = bids_dir+\"/derivatives/fmriprep/sub-010/anat/sub-010_space-MNI152NLin2009cAsym_label-GM_probseg_bin.nii.gz\"\n",
    "\n",
    "#contrasts = ['valence_x_outcome',\n",
    "#             'positive','positive_win','positive_loss',\n",
    "#             'negative','negative_win','negative_loss']\n",
    "contrasts=['all_winVlos', 'positive_winVlos']\n",
    "contrasts_2nd = ['ch_totanx','ch_cdi_total']\n",
    "tasks = ['mdoors','social']\n",
    "group = 'kids'\n",
    "alpha = 0.001\n",
    "\n",
    "\n",
    "threshold_data = {}\n",
    "\n",
    "for task in tasks:\n",
    "    for contrast in contrasts:\n",
    "        \n",
    "        temp_file_list = []\n",
    "        for subj in subjs_list_kids:\n",
    "            temp_file = glob.glob(os.path.join(data_dir,subj,'suit',\n",
    "                                               'iw_wdzmap_'+task+'_'+contrast+'_u_a_'+subj+'_run-1_space-MNI152NLin2009cAsym_label-GM_probseg.nii'))\n",
    "            temp_file_list.append(temp_file[0])\n",
    "        temp_file_list.sort()\n",
    "        \n",
    "        print('Calculating '+task+' group '+contrast+' contrast')\n",
    "        \n",
    "        model = SecondLevelModel(mask_img=mni_mask, smoothing_fwhm=8.0)\n",
    "        model.fit(temp_file_list, design_matrix=design_matrix)\n",
    "        \n",
    "        for contrast_2nd in contrasts_2nd:\n",
    "            z_map = model.compute_contrast(contrast_2nd, output_type='z_score')\n",
    "\n",
    "            z_map.to_filename(os.path.join(data_dir,'group',\n",
    "                                       'zmap_'+group+'_'+task+'_'+contrast+'_'+contrast_2nd+'-suit_unc.nii.gz'))\n",
    "            \n",
    "            # Multiple Comparisons Correction\n",
    "            z_map_thresh, threshold = threshold_stats_img(z_map, alpha=alpha, height_control='fpr')\n",
    "            z_map_thresh.to_filename(os.path.join(data_dir,'group',\n",
    "                                       'zmap_'+group+'_'+task+'_'+contrast+'_'+contrast_2nd+'-suit_fpr.nii.gz'))\n",
    "            \n",
    "            threshold_data['zmap_'+group+'_'+task+'_'+contrast+'_'+contrast_2nd+'_fpr_'+str(alpha)] = threshold"
   ]
  },
  {
   "cell_type": "code",
   "execution_count": null,
   "id": "38ff274d",
   "metadata": {},
   "outputs": [],
   "source": [
    "filename = 'zmap_kids_social_positive_winVlos_ch_cdi_total_'\n",
    "threshold = threshold_data[filename+'fpr_'+str(alpha)]\n",
    "#threshold=1\n",
    "\n",
    "plot_stat_map_cb(filename+'unc', threshold)"
   ]
  },
  {
   "cell_type": "code",
   "execution_count": null,
   "id": "dc8a5721",
   "metadata": {},
   "outputs": [],
   "source": [
    "filename = 'zmap_kids_social_all_winVlos_ch_cdi_total_'\n",
    "threshold = threshold_data[filename+'fpr_'+str(alpha)]\n",
    "#threshold=1\n",
    "\n",
    "plot_stat_map_cb(filename+'unc', threshold)"
   ]
  }
 ],
 "metadata": {
  "kernelspec": {
   "display_name": "py37",
   "language": "python",
   "name": "py37"
  },
  "language_info": {
   "codemirror_mode": {
    "name": "ipython",
    "version": 3
   },
   "file_extension": ".py",
   "mimetype": "text/x-python",
   "name": "python",
   "nbconvert_exporter": "python",
   "pygments_lexer": "ipython3",
   "version": "3.7.16"
  },
  "toc": {
   "base_numbering": 1,
   "nav_menu": {},
   "number_sections": true,
   "sideBar": true,
   "skip_h1_title": true,
   "title_cell": "Table of Contents",
   "title_sidebar": "Contents",
   "toc_cell": true,
   "toc_position": {
    "height": "calc(100% - 180px)",
    "left": "10px",
    "top": "150px",
    "width": "165px"
   },
   "toc_section_display": true,
   "toc_window_display": true
  },
  "varInspector": {
   "cols": {
    "lenName": 16,
    "lenType": 16,
    "lenVar": 40
   },
   "kernels_config": {
    "python": {
     "delete_cmd_postfix": "",
     "delete_cmd_prefix": "del ",
     "library": "var_list.py",
     "varRefreshCmd": "print(var_dic_list())"
    },
    "r": {
     "delete_cmd_postfix": ") ",
     "delete_cmd_prefix": "rm(",
     "library": "var_list.r",
     "varRefreshCmd": "cat(var_dic_list()) "
    }
   },
   "types_to_exclude": [
    "module",
    "function",
    "builtin_function_or_method",
    "instance",
    "_Feature"
   ],
   "window_display": false
  }
 },
 "nbformat": 4,
 "nbformat_minor": 5
}
