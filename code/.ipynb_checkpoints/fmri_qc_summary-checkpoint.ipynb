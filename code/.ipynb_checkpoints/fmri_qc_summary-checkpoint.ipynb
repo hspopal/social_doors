{
 "cells": [
  {
   "cell_type": "markdown",
   "metadata": {
    "toc": true
   },
   "source": [
    "<h1>Table of Contents<span class=\"tocSkip\"></span></h1>\n",
    "<div class=\"toc\"><ul class=\"toc-item\"><li><span><a href=\"#Find-mriqc-output-files\" data-toc-modified-id=\"Find-mriqc-output-files-1\"><span class=\"toc-item-num\">1&nbsp;&nbsp;</span>Find mriqc output files</a></span><ul class=\"toc-item\"><li><span><a href=\"#Check-to-see-if-all-output-files-have-ratings\" data-toc-modified-id=\"Check-to-see-if-all-output-files-have-ratings-1.1\"><span class=\"toc-item-num\">1.1&nbsp;&nbsp;</span>Check to see if all output files have ratings</a></span><ul class=\"toc-item\"><li><span><a href=\"#Create-dataframe-of-all-scan-ratings\" data-toc-modified-id=\"Create-dataframe-of-all-scan-ratings-1.1.1\"><span class=\"toc-item-num\">1.1.1&nbsp;&nbsp;</span>Create dataframe of all scan ratings</a></span></li></ul></li><li><span><a href=\"#Filter-Scans\" data-toc-modified-id=\"Filter-Scans-1.2\"><span class=\"toc-item-num\">1.2&nbsp;&nbsp;</span>Filter Scans</a></span><ul class=\"toc-item\"><li><span><a href=\"#Ratings-of-acceptable-or-better\" data-toc-modified-id=\"Ratings-of-acceptable-or-better-1.2.1\"><span class=\"toc-item-num\">1.2.1&nbsp;&nbsp;</span>Ratings of acceptable or better</a></span></li><li><span><a href=\"#Ratings-of-poor-or-better\" data-toc-modified-id=\"Ratings-of-poor-or-better-1.2.2\"><span class=\"toc-item-num\">1.2.2&nbsp;&nbsp;</span>Ratings of poor or better</a></span></li></ul></li></ul></li></ul></div>"
   ]
  },
  {
   "cell_type": "code",
   "execution_count": 1,
   "metadata": {},
   "outputs": [],
   "source": [
    "import pandas as pd\n",
    "import seaborn as sns\n",
    "import os\n",
    "import glob"
   ]
  },
  {
   "cell_type": "markdown",
   "metadata": {},
   "source": [
    "__Set Project Directory__"
   ]
  },
  {
   "cell_type": "code",
   "execution_count": 3,
   "metadata": {},
   "outputs": [],
   "source": [
    "proj_dir = \"/Users/tuk12127/OneDrive - Temple University/olson_lab/projects/social_doors/\"\n",
    "os.chdir(proj_dir)"
   ]
  },
  {
   "cell_type": "markdown",
   "metadata": {},
   "source": [
    "## Find mriqc output files"
   ]
  },
  {
   "cell_type": "code",
   "execution_count": 4,
   "metadata": {},
   "outputs": [],
   "source": [
    "# Find all mriqc json files\n",
    "#mriqc_output = glob.glob('preprocessing/mriqc/*.html')\n",
    "#json_files = glob.glob('preprocessing/mriqc/*.json')"
   ]
  },
  {
   "cell_type": "markdown",
   "metadata": {},
   "source": [
    "### Check to see if all output files have ratings"
   ]
  },
  {
   "cell_type": "code",
   "execution_count": 5,
   "metadata": {},
   "outputs": [
    {
     "data": {
      "text/plain": [
       "'for f in mriqc_output:\\n    json_search = f[:-5]+\\'.json\\'\\n    if os.path.isfile(json_search):\\n        continue\\n    else:\\n        print(json_search+\" does not exist\")'"
      ]
     },
     "execution_count": 5,
     "metadata": {},
     "output_type": "execute_result"
    }
   ],
   "source": [
    "\"\"\"for f in mriqc_output:\n",
    "    json_search = f[:-5]+'.json'\n",
    "    if os.path.isfile(json_search):\n",
    "        continue\n",
    "    else:\n",
    "        print(json_search+\" does not exist\")\"\"\""
   ]
  },
  {
   "cell_type": "markdown",
   "metadata": {},
   "source": [
    "#### Create dataframe of all scan ratings\n",
    "This dataframe will have columns for the subject ID, the run name, the rating of that run, and any artifacts that were noted"
   ]
  },
  {
   "cell_type": "code",
   "execution_count": 6,
   "metadata": {},
   "outputs": [
    {
     "data": {
      "text/plain": [
       "'\\nsubj_mriqc_df = pd.DataFrame()\\n\\nfor j in json_files:\\n    temp_subj = j.split(\"/\")[2][:7]\\n    temp_df = pd.read_json(j, lines=True)\\n    temp_df.columns = [\\'subject\\', \\'run\\', \\'rating\\', \\'artifacts\\']\\n    temp_df[\\'subject\\'] = temp_subj\\n    subj_mriqc_df = subj_mriqc_df.append(temp_df)\\n\\nsubj_mriqc_df[\\'run\\'] = subj_mriqc_df[\\'run\\'].str.replace(\\'run-0010\\', \\'run-010\\')\\nsubj_mriqc_df = subj_mriqc_df.sort_values([\\'subject\\', \\'run\\'])\\nsubj_mriqc_df = subj_mriqc_df.reset_index(drop=True)\\nsubj_mriqc_df.to_csv(\\'preprocessing/mriqc/mriqc_summary.csv\\', encoding=\\'utf-8\\')\\n'"
      ]
     },
     "execution_count": 6,
     "metadata": {},
     "output_type": "execute_result"
    }
   ],
   "source": [
    "\"\"\"\n",
    "subj_mriqc_df = pd.DataFrame()\n",
    "\n",
    "for j in json_files:\n",
    "    temp_subj = j.split(\"/\")[2][:7]\n",
    "    temp_df = pd.read_json(j, lines=True)\n",
    "    temp_df.columns = ['subject', 'run', 'rating', 'artifacts']\n",
    "    temp_df['subject'] = temp_subj\n",
    "    subj_mriqc_df = subj_mriqc_df.append(temp_df)\n",
    "\n",
    "subj_mriqc_df['run'] = subj_mriqc_df['run'].str.replace('run-0010', 'run-010')\n",
    "subj_mriqc_df = subj_mriqc_df.sort_values(['subject', 'run'])\n",
    "subj_mriqc_df = subj_mriqc_df.reset_index(drop=True)\n",
    "subj_mriqc_df.to_csv('preprocessing/mriqc/mriqc_summary.csv', encoding='utf-8')\n",
    "\"\"\""
   ]
  },
  {
   "cell_type": "code",
   "execution_count": 7,
   "metadata": {},
   "outputs": [],
   "source": [
    "#j.split(\"/\")"
   ]
  },
  {
   "cell_type": "markdown",
   "metadata": {},
   "source": [
    "### Filter Scans\n",
    "\n",
    "#### Ratings of acceptable or better"
   ]
  },
  {
   "cell_type": "code",
   "execution_count": 27,
   "metadata": {},
   "outputs": [
    {
     "name": "stderr",
     "output_type": "stream",
     "text": [
      "/Users/tuk12127/opt/anaconda3/lib/python3.7/site-packages/ipykernel_launcher.py:5: SettingWithCopyWarning: \n",
      "A value is trying to be set on a copy of a slice from a DataFrame.\n",
      "Try using .loc[row_indexer,col_indexer] = value instead\n",
      "\n",
      "See the caveats in the documentation: https://pandas.pydata.org/pandas-docs/stable/user_guide/indexing.html#returning-a-view-versus-a-copy\n",
      "  \"\"\"\n"
     ]
    }
   ],
   "source": [
    "subj_mriqc_df = pd.read_csv(proj_dir+'/misc/qc_summary.csv')\n",
    "\n",
    "subj_mriqc_df_accp = subj_mriqc_df[subj_mriqc_df['rating'] > 2]\n",
    "\n",
    "subj_mriqc_df_accp['artifacts'] = subj_mriqc_df_accp['artifacts'].fillna('[]')\n",
    "\n",
    "subj_mriqc_df_accp = subj_mriqc_df_accp[~subj_mriqc_df_accp['artifacts'].str.contains('cerebellum-cutoff')]"
   ]
  },
  {
   "cell_type": "code",
   "execution_count": 28,
   "metadata": {},
   "outputs": [
    {
     "data": {
      "text/plain": [
       "count    64.000000\n",
       "mean      3.609375\n",
       "std       0.681203\n",
       "min       2.000000\n",
       "25%       3.000000\n",
       "50%       4.000000\n",
       "75%       4.000000\n",
       "max       4.000000\n",
       "Name: subject, dtype: float64"
      ]
     },
     "execution_count": 28,
     "metadata": {},
     "output_type": "execute_result"
    },
    {
     "data": {
      "image/png": "[encoded data removed]",
      "text/plain": [
       "<Figure size 432x288 with 1 Axes>"
      ]
     },
     "metadata": {
      "needs_background": "light"
     },
     "output_type": "display_data"
    }
   ],
   "source": [
    "# Drop scans that were rated worse than adequate\n",
    "#subj_mriqc_df_accp = subj_mriqc_df[subj_mriqc_df['rating'] > 2]\n",
    "\n",
    "# Drop rows with T1 scans\n",
    "#subj_mriqc_df_accp.drop(subj_mriqc_df_accp[subj_mriqc_df_accp['run'].str.contains('T1w')].index, \n",
    "#                      inplace = True) \n",
    "\n",
    "#subj_mriqc_df_accp.to_csv('preprocessing/mriqc/mriqc_summary_accp.csv')\n",
    "\n",
    "\n",
    "\n",
    "# Print info about the subjects\n",
    "sns.countplot(data=subj_mriqc_df_accp, x='subject')\n",
    "subj_mriqc_df_accp['subject'].value_counts().describe()"
   ]
  },
  {
   "cell_type": "code",
   "execution_count": null,
   "metadata": {},
   "outputs": [],
   "source": []
  },
  {
   "cell_type": "code",
   "execution_count": 29,
   "metadata": {},
   "outputs": [],
   "source": [
    "# Import subject list with group ids\n",
    "participants_df = pd.read_csv(proj_dir+'/participants.tsv', sep='\\t')\n",
    "participants_df\n",
    "\n",
    "participants_df_good = participants_df[participants_df['participant_id'].isin(list(subj_mriqc_df_accp['subject'].unique()))]\n",
    "participants_df_good['group'].value_counts()\n",
    "participants_df_good.to_csv(proj_dir+'/misc/participants_good.tsv', sep='\\t')\n"
   ]
  },
  {
   "cell_type": "markdown",
   "metadata": {},
   "source": [
    "The above table and figure shows the number of subjects in this dataset at the current threshold and information about the number of runs per each subject."
   ]
  },
  {
   "cell_type": "markdown",
   "metadata": {},
   "source": [
    "#### Ratings of poor or better"
   ]
  },
  {
   "cell_type": "code",
   "execution_count": 21,
   "metadata": {},
   "outputs": [
    {
     "data": {
      "text/plain": [
       "count    36.000000\n",
       "mean      9.055556\n",
       "std       1.722862\n",
       "min       4.000000\n",
       "25%       8.000000\n",
       "50%      10.000000\n",
       "75%      10.000000\n",
       "max      10.000000\n",
       "Name: subject, dtype: float64"
      ]
     },
     "execution_count": 21,
     "metadata": {},
     "output_type": "execute_result"
    },
    {
     "data": {
      "image/png": "[encoded data removed]",
      "text/plain": [
       "<Figure size 432x288 with 1 Axes>"
      ]
     },
     "metadata": {
      "needs_background": "light"
     },
     "output_type": "display_data"
    }
   ],
   "source": [
    "# Drop scans that were rated worse than adequate\n",
    "subj_mriqc_df_poor = subj_mriqc_df[subj_mriqc_df['rating'] > 1]\n",
    "\n",
    "# Drop rows with T1 scans\n",
    "subj_mriqc_df_poor.drop(subj_mriqc_df_poor[subj_mriqc_df_poor['run'].str.contains('T1w')].index, \n",
    "                      inplace = True) \n",
    "\n",
    "subj_mriqc_df_poor.to_csv('preprocessing/mriqc/mriqc_summary_poor.csv')\n",
    "\n",
    "# Print number of subjects after exclusions\n",
    "sns.countplot(data=subj_mriqc_df_poor, x='subject')\n",
    "subj_mriqc_df_poor['subject'].value_counts().describe()"
   ]
  },
  {
   "cell_type": "code",
   "execution_count": null,
   "metadata": {},
   "outputs": [],
   "source": []
  }
 ],
 "metadata": {
  "kernelspec": {
   "display_name": "Python 3",
   "language": "python",
   "name": "python3"
  },
  "language_info": {
   "codemirror_mode": {
    "name": "ipython",
    "version": 3
   },
   "file_extension": ".py",
   "mimetype": "text/x-python",
   "name": "python",
   "nbconvert_exporter": "python",
   "pygments_lexer": "ipython3",
   "version": "3.7.4"
  },
  "toc": {
   "base_numbering": 1,
   "nav_menu": {},
   "number_sections": true,
   "sideBar": true,
   "skip_h1_title": true,
   "title_cell": "Table of Contents",
   "title_sidebar": "Contents",
   "toc_cell": true,
   "toc_position": {},
   "toc_section_display": true,
   "toc_window_display": true
  },
  "varInspector": {
   "cols": {
    "lenName": 16,
    "lenType": 16,
    "lenVar": 40
   },
   "kernels_config": {
    "python": {
     "delete_cmd_postfix": "",
     "delete_cmd_prefix": "del ",
     "library": "var_list.py",
     "varRefreshCmd": "print(var_dic_list())"
    },
    "r": {
     "delete_cmd_postfix": ") ",
     "delete_cmd_prefix": "rm(",
     "library": "var_list.r",
     "varRefreshCmd": "cat(var_dic_list()) "
    }
   },
   "types_to_exclude": [
    "module",
    "function",
    "builtin_function_or_method",
    "instance",
    "_Feature"
   ],
   "window_display": false
  }
 },
 "nbformat": 4,
 "nbformat_minor": 4
}
